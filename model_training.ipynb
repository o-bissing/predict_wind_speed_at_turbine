{
 "cells": [
  {
   "cell_type": "code",
   "execution_count": 1,
   "id": "initial_id",
   "metadata": {
    "collapsed": true,
    "ExecuteTime": {
     "end_time": "2024-12-26T18:09:42.603175600Z",
     "start_time": "2024-12-26T18:09:39.544454900Z"
    }
   },
   "outputs": [],
   "source": [
    "import numpy as np\n",
    "import pandas as pd\n",
    "from sklearn.model_selection import train_test_split\n",
    "from sklearn.preprocessing import StandardScaler\n",
    "from tensorflow.keras.models import Sequential\n",
    "from tensorflow.keras.layers import Dense, Dropout\n",
    "from sklearn.metrics import mean_squared_error, mean_absolute_error\n",
    "import matplotlib.pyplot as plt"
   ]
  },
  {
   "cell_type": "code",
   "execution_count": 16,
   "outputs": [],
   "source": [
    "df_train = pd.read_csv('train_data.csv')\n",
    "df_test = pd.read_csv('test_data.csv')"
   ],
   "metadata": {
    "collapsed": false,
    "ExecuteTime": {
     "end_time": "2024-12-26T18:24:00.174505400Z",
     "start_time": "2024-12-26T18:23:59.208167400Z"
    }
   },
   "id": "460cc4f5342e76a6"
  },
  {
   "cell_type": "code",
   "execution_count": 19,
   "outputs": [],
   "source": [
    "X_train = df_train.iloc[:, :-1].values  # All columns except the last as features\n",
    "y_train = df_train.iloc[:, -1].values   # Last column as target\n",
    "X_test = df_test.iloc[:, 1:].values   # All columns except the first as features"
   ],
   "metadata": {
    "collapsed": false,
    "ExecuteTime": {
     "end_time": "2024-12-26T18:25:25.210178500Z",
     "start_time": "2024-12-26T18:25:25.207673200Z"
    }
   },
   "id": "200f29bc64cd27dd"
  },
  {
   "cell_type": "code",
   "execution_count": 20,
   "outputs": [],
   "source": [
    "scaler = StandardScaler()\n",
    "X_train = scaler.fit_transform(X_train)\n",
    "X_test = scaler.transform(X_test)"
   ],
   "metadata": {
    "collapsed": false,
    "ExecuteTime": {
     "end_time": "2024-12-26T18:25:26.659625Z",
     "start_time": "2024-12-26T18:25:26.583157700Z"
    }
   },
   "id": "e2ecf4d8e4c5734a"
  },
  {
   "cell_type": "code",
   "execution_count": 7,
   "outputs": [
    {
     "name": "stdout",
     "output_type": "stream",
     "text": [
      "Model: \"sequential\"\n",
      "_________________________________________________________________\n",
      " Layer (type)                Output Shape              Param #   \n",
      "=================================================================\n",
      " dense (Dense)               (None, 128)               5248      \n",
      "                                                                 \n",
      " dropout (Dropout)           (None, 128)               0         \n",
      "                                                                 \n",
      " dense_1 (Dense)             (None, 64)                8256      \n",
      "                                                                 \n",
      " dropout_1 (Dropout)         (None, 64)                0         \n",
      "                                                                 \n",
      " dense_2 (Dense)             (None, 1)                 65        \n",
      "                                                                 \n",
      "=================================================================\n",
      "Total params: 13569 (53.00 KB)\n",
      "Trainable params: 13569 (53.00 KB)\n",
      "Non-trainable params: 0 (0.00 Byte)\n",
      "_________________________________________________________________\n"
     ]
    }
   ],
   "source": [
    "# Define the FCNN model\n",
    "model = Sequential([\n",
    "    Dense(128, activation='relu', input_dim=X_train.shape[1]),  # Input layer\n",
    "    Dropout(0.3),  # Regularization to avoid overfitting\n",
    "    Dense(64, activation='relu'),\n",
    "    Dropout(0.3),\n",
    "    Dense(1, activation='linear')  # Output layer for regression\n",
    "])\n",
    "\n",
    "# Compile the model\n",
    "model.compile(optimizer='adam', loss='mse', metrics=['mae'])\n",
    "\n",
    "# Model summary\n",
    "model.summary()"
   ],
   "metadata": {
    "collapsed": false,
    "ExecuteTime": {
     "end_time": "2024-12-26T18:13:45.169520100Z",
     "start_time": "2024-12-26T18:13:45.034463500Z"
    }
   },
   "id": "82b0488e16aa75ca"
  },
  {
   "cell_type": "code",
   "execution_count": 8,
   "outputs": [
    {
     "name": "stdout",
     "output_type": "stream",
     "text": [
      "Epoch 1/50\n",
      "3236/3236 [==============================] - 5s 1ms/step - loss: 1.8551 - mae: 0.9978 - val_loss: 0.6230 - val_mae: 0.5903\n",
      "Epoch 2/50\n",
      "3236/3236 [==============================] - 4s 1ms/step - loss: 1.0252 - mae: 0.7567 - val_loss: 0.5456 - val_mae: 0.5376\n",
      "Epoch 3/50\n",
      "3236/3236 [==============================] - 4s 1ms/step - loss: 0.8269 - mae: 0.6750 - val_loss: 0.5148 - val_mae: 0.5401\n",
      "Epoch 4/50\n",
      "3236/3236 [==============================] - 4s 1ms/step - loss: 0.7108 - mae: 0.6227 - val_loss: 0.4732 - val_mae: 0.5217\n",
      "Epoch 5/50\n",
      "3236/3236 [==============================] - 4s 1ms/step - loss: 0.6465 - mae: 0.5922 - val_loss: 0.4649 - val_mae: 0.5208\n",
      "Epoch 6/50\n",
      "3236/3236 [==============================] - 4s 1ms/step - loss: 0.5998 - mae: 0.5720 - val_loss: 0.5369 - val_mae: 0.5660\n",
      "Epoch 7/50\n",
      "3236/3236 [==============================] - 4s 1ms/step - loss: 0.5729 - mae: 0.5599 - val_loss: 0.4947 - val_mae: 0.5432\n",
      "Epoch 8/50\n",
      "3236/3236 [==============================] - 4s 1ms/step - loss: 0.5588 - mae: 0.5522 - val_loss: 0.5105 - val_mae: 0.5554\n",
      "Epoch 9/50\n",
      "3236/3236 [==============================] - 4s 1ms/step - loss: 0.5483 - mae: 0.5485 - val_loss: 0.4687 - val_mae: 0.5285\n",
      "Epoch 10/50\n",
      "3236/3236 [==============================] - 4s 1ms/step - loss: 0.5382 - mae: 0.5433 - val_loss: 0.4886 - val_mae: 0.5433\n",
      "Epoch 11/50\n",
      "3236/3236 [==============================] - 4s 1ms/step - loss: 0.5276 - mae: 0.5379 - val_loss: 0.5219 - val_mae: 0.5634\n",
      "Epoch 12/50\n",
      "3236/3236 [==============================] - 4s 1ms/step - loss: 0.5251 - mae: 0.5374 - val_loss: 0.5451 - val_mae: 0.5752\n",
      "Epoch 13/50\n",
      "3236/3236 [==============================] - 4s 1ms/step - loss: 0.5156 - mae: 0.5329 - val_loss: 0.4263 - val_mae: 0.5087\n",
      "Epoch 14/50\n",
      "3236/3236 [==============================] - 4s 1ms/step - loss: 0.5100 - mae: 0.5314 - val_loss: 0.7032 - val_mae: 0.6601\n",
      "Epoch 15/50\n",
      "3236/3236 [==============================] - 4s 1ms/step - loss: 0.5040 - mae: 0.5286 - val_loss: 0.5688 - val_mae: 0.5914\n",
      "Epoch 16/50\n",
      "3236/3236 [==============================] - 4s 1ms/step - loss: 0.4960 - mae: 0.5255 - val_loss: 0.5661 - val_mae: 0.5831\n",
      "Epoch 17/50\n",
      "3236/3236 [==============================] - 4s 1ms/step - loss: 0.4982 - mae: 0.5254 - val_loss: 0.5270 - val_mae: 0.5653\n",
      "Epoch 18/50\n",
      "3236/3236 [==============================] - 4s 1ms/step - loss: 0.4930 - mae: 0.5215 - val_loss: 0.4414 - val_mae: 0.5133\n",
      "Epoch 19/50\n",
      "3236/3236 [==============================] - 4s 1ms/step - loss: 0.4923 - mae: 0.5212 - val_loss: 0.4508 - val_mae: 0.5231\n",
      "Epoch 20/50\n",
      "3236/3236 [==============================] - 4s 1ms/step - loss: 0.4921 - mae: 0.5219 - val_loss: 0.5163 - val_mae: 0.5644\n",
      "Epoch 21/50\n",
      "3236/3236 [==============================] - 4s 1ms/step - loss: 0.4876 - mae: 0.5191 - val_loss: 0.5420 - val_mae: 0.5766\n",
      "Epoch 22/50\n",
      "3236/3236 [==============================] - 4s 1ms/step - loss: 0.4884 - mae: 0.5188 - val_loss: 0.4006 - val_mae: 0.4951\n",
      "Epoch 23/50\n",
      "3236/3236 [==============================] - 4s 1ms/step - loss: 0.4904 - mae: 0.5196 - val_loss: 0.4288 - val_mae: 0.5118\n",
      "Epoch 24/50\n",
      "3236/3236 [==============================] - 4s 1ms/step - loss: 0.4790 - mae: 0.5155 - val_loss: 0.4256 - val_mae: 0.5102\n",
      "Epoch 25/50\n",
      "3236/3236 [==============================] - 4s 1ms/step - loss: 0.4851 - mae: 0.5179 - val_loss: 0.5774 - val_mae: 0.5974\n",
      "Epoch 26/50\n",
      "3236/3236 [==============================] - 4s 1ms/step - loss: 0.4813 - mae: 0.5155 - val_loss: 0.5306 - val_mae: 0.5668\n",
      "Epoch 27/50\n",
      "3236/3236 [==============================] - 4s 1ms/step - loss: 0.4758 - mae: 0.5142 - val_loss: 0.4789 - val_mae: 0.5423\n",
      "Epoch 28/50\n",
      "3236/3236 [==============================] - 4s 1ms/step - loss: 0.4780 - mae: 0.5145 - val_loss: 0.5095 - val_mae: 0.5490\n",
      "Epoch 29/50\n",
      "3236/3236 [==============================] - 4s 1ms/step - loss: 0.4817 - mae: 0.5156 - val_loss: 0.4727 - val_mae: 0.5384\n",
      "Epoch 30/50\n",
      "3236/3236 [==============================] - 4s 1ms/step - loss: 0.4752 - mae: 0.5129 - val_loss: 0.4406 - val_mae: 0.5184\n",
      "Epoch 31/50\n",
      "3236/3236 [==============================] - 4s 1ms/step - loss: 0.4770 - mae: 0.5126 - val_loss: 0.4125 - val_mae: 0.4996\n",
      "Epoch 32/50\n",
      "3236/3236 [==============================] - 4s 1ms/step - loss: 0.4728 - mae: 0.5126 - val_loss: 0.5190 - val_mae: 0.5603\n",
      "Epoch 33/50\n",
      "3236/3236 [==============================] - 4s 1ms/step - loss: 0.4729 - mae: 0.5108 - val_loss: 0.4386 - val_mae: 0.5168\n",
      "Epoch 34/50\n",
      "3236/3236 [==============================] - 4s 1ms/step - loss: 0.4728 - mae: 0.5111 - val_loss: 0.5657 - val_mae: 0.5915\n",
      "Epoch 35/50\n",
      "3236/3236 [==============================] - 4s 1ms/step - loss: 0.4670 - mae: 0.5102 - val_loss: 0.4196 - val_mae: 0.5058\n",
      "Epoch 36/50\n",
      "3236/3236 [==============================] - 4s 1ms/step - loss: 0.4676 - mae: 0.5086 - val_loss: 0.4645 - val_mae: 0.5294\n",
      "Epoch 37/50\n",
      "3236/3236 [==============================] - 4s 1ms/step - loss: 0.4659 - mae: 0.5077 - val_loss: 0.4925 - val_mae: 0.5543\n",
      "Epoch 38/50\n",
      "3236/3236 [==============================] - 4s 1ms/step - loss: 0.4716 - mae: 0.5112 - val_loss: 0.5414 - val_mae: 0.5795\n",
      "Epoch 39/50\n",
      "3236/3236 [==============================] - 4s 1ms/step - loss: 0.4675 - mae: 0.5098 - val_loss: 0.4279 - val_mae: 0.5120\n",
      "Epoch 40/50\n",
      "3236/3236 [==============================] - 4s 1ms/step - loss: 0.4670 - mae: 0.5093 - val_loss: 0.4512 - val_mae: 0.5261\n",
      "Epoch 41/50\n",
      "3236/3236 [==============================] - 5s 1ms/step - loss: 0.4677 - mae: 0.5088 - val_loss: 0.4081 - val_mae: 0.4986\n",
      "Epoch 42/50\n",
      "3236/3236 [==============================] - 4s 1ms/step - loss: 0.4669 - mae: 0.5088 - val_loss: 0.5445 - val_mae: 0.5805\n",
      "Epoch 43/50\n",
      "3236/3236 [==============================] - 5s 1ms/step - loss: 0.4650 - mae: 0.5079 - val_loss: 0.4754 - val_mae: 0.5354\n",
      "Epoch 44/50\n",
      "3236/3236 [==============================] - 4s 1ms/step - loss: 0.4634 - mae: 0.5070 - val_loss: 0.5901 - val_mae: 0.5999\n",
      "Epoch 45/50\n",
      "3236/3236 [==============================] - 4s 1ms/step - loss: 0.4696 - mae: 0.5094 - val_loss: 0.4208 - val_mae: 0.5097\n",
      "Epoch 46/50\n",
      "3236/3236 [==============================] - 4s 1ms/step - loss: 0.4623 - mae: 0.5056 - val_loss: 0.4534 - val_mae: 0.5257\n",
      "Epoch 47/50\n",
      "3236/3236 [==============================] - 4s 1ms/step - loss: 0.4650 - mae: 0.5073 - val_loss: 0.4903 - val_mae: 0.5490\n",
      "Epoch 48/50\n",
      "3236/3236 [==============================] - 4s 1ms/step - loss: 0.4658 - mae: 0.5080 - val_loss: 0.4883 - val_mae: 0.5488\n",
      "Epoch 49/50\n",
      "3236/3236 [==============================] - 4s 1ms/step - loss: 0.4568 - mae: 0.5046 - val_loss: 0.4099 - val_mae: 0.4941\n",
      "Epoch 50/50\n",
      "3236/3236 [==============================] - 4s 1ms/step - loss: 0.4601 - mae: 0.5051 - val_loss: 0.4977 - val_mae: 0.5551\n"
     ]
    }
   ],
   "source": [
    "history = model.fit(\n",
    "    X_train, y_train,\n",
    "    validation_split=0.2,  # Use 20% of training data for validation\n",
    "    epochs=50,  # Number of epochs (adjust as needed)\n",
    "    batch_size=32,  # Batch size\n",
    "    verbose=1  # Display training progress\n",
    ")"
   ],
   "metadata": {
    "collapsed": false,
    "ExecuteTime": {
     "end_time": "2024-12-26T18:17:40.984841Z",
     "start_time": "2024-12-26T18:14:05.810233500Z"
    }
   },
   "id": "a67c14d44de616c5"
  },
  {
   "cell_type": "code",
   "execution_count": 21,
   "outputs": [
    {
     "name": "stdout",
     "output_type": "stream",
     "text": [
      "2016/2016 [==============================] - 1s 689us/step\n"
     ]
    }
   ],
   "source": [
    "y_pred = model.predict(X_test)"
   ],
   "metadata": {
    "collapsed": false,
    "ExecuteTime": {
     "end_time": "2024-12-26T18:25:39.441483900Z",
     "start_time": "2024-12-26T18:25:37.445950200Z"
    }
   },
   "id": "fa1b101be39f5daa"
  },
  {
   "cell_type": "code",
   "execution_count": 22,
   "outputs": [],
   "source": [
    "predictions_df = pd.DataFrame(y_pred)"
   ],
   "metadata": {
    "collapsed": false,
    "ExecuteTime": {
     "end_time": "2024-12-26T18:25:41.300085900Z",
     "start_time": "2024-12-26T18:25:41.278059500Z"
    }
   },
   "id": "1c4c574add488773"
  },
  {
   "cell_type": "code",
   "execution_count": 36,
   "outputs": [],
   "source": [
    "column_from_df1 = df_test[\"Unnamed: 0\"]\n",
    "column_from_df2 = predictions_df.iloc[:, -1]"
   ],
   "metadata": {
    "collapsed": false,
    "ExecuteTime": {
     "end_time": "2024-12-26T18:37:34.549608500Z",
     "start_time": "2024-12-26T18:37:34.539075900Z"
    }
   },
   "id": "71b333248aa7be59"
  },
  {
   "cell_type": "code",
   "execution_count": 39,
   "outputs": [],
   "source": [
    "predictions_df = pd.concat([column_from_df1, column_from_df2], axis=1)"
   ],
   "metadata": {
    "collapsed": false,
    "ExecuteTime": {
     "end_time": "2024-12-26T18:37:43.505234800Z",
     "start_time": "2024-12-26T18:37:43.496827400Z"
    }
   },
   "id": "207d7ab39242cd84"
  },
  {
   "cell_type": "code",
   "execution_count": 43,
   "outputs": [],
   "source": [
    "predictions_df.columns = ['id', 'target_feature']"
   ],
   "metadata": {
    "collapsed": false,
    "ExecuteTime": {
     "end_time": "2024-12-26T18:41:31.157817300Z",
     "start_time": "2024-12-26T18:41:31.154405900Z"
    }
   },
   "id": "3363d337b3d8fec3"
  },
  {
   "cell_type": "code",
   "execution_count": 44,
   "outputs": [
    {
     "data": {
      "text/plain": "           id  target_feature\n0        2016        8.316312\n1        2017        8.603754\n2        2018        8.830685\n3        2019        8.290844\n4        2020        7.353524\n...       ...             ...\n64507  193531        5.714819\n64508  193532        5.347952\n64509  193533        5.375154\n64510  193534        5.543653\n64511  193535        5.574118\n\n[64512 rows x 2 columns]",
      "text/html": "<div>\n<style scoped>\n    .dataframe tbody tr th:only-of-type {\n        vertical-align: middle;\n    }\n\n    .dataframe tbody tr th {\n        vertical-align: top;\n    }\n\n    .dataframe thead th {\n        text-align: right;\n    }\n</style>\n<table border=\"1\" class=\"dataframe\">\n  <thead>\n    <tr style=\"text-align: right;\">\n      <th></th>\n      <th>id</th>\n      <th>target_feature</th>\n    </tr>\n  </thead>\n  <tbody>\n    <tr>\n      <th>0</th>\n      <td>2016</td>\n      <td>8.316312</td>\n    </tr>\n    <tr>\n      <th>1</th>\n      <td>2017</td>\n      <td>8.603754</td>\n    </tr>\n    <tr>\n      <th>2</th>\n      <td>2018</td>\n      <td>8.830685</td>\n    </tr>\n    <tr>\n      <th>3</th>\n      <td>2019</td>\n      <td>8.290844</td>\n    </tr>\n    <tr>\n      <th>4</th>\n      <td>2020</td>\n      <td>7.353524</td>\n    </tr>\n    <tr>\n      <th>...</th>\n      <td>...</td>\n      <td>...</td>\n    </tr>\n    <tr>\n      <th>64507</th>\n      <td>193531</td>\n      <td>5.714819</td>\n    </tr>\n    <tr>\n      <th>64508</th>\n      <td>193532</td>\n      <td>5.347952</td>\n    </tr>\n    <tr>\n      <th>64509</th>\n      <td>193533</td>\n      <td>5.375154</td>\n    </tr>\n    <tr>\n      <th>64510</th>\n      <td>193534</td>\n      <td>5.543653</td>\n    </tr>\n    <tr>\n      <th>64511</th>\n      <td>193535</td>\n      <td>5.574118</td>\n    </tr>\n  </tbody>\n</table>\n<p>64512 rows × 2 columns</p>\n</div>"
     },
     "execution_count": 44,
     "metadata": {},
     "output_type": "execute_result"
    }
   ],
   "source": [
    "predictions_df"
   ],
   "metadata": {
    "collapsed": false,
    "ExecuteTime": {
     "end_time": "2024-12-26T18:41:32.342155500Z",
     "start_time": "2024-12-26T18:41:32.335086100Z"
    }
   },
   "id": "2cf96c0a943975ab"
  },
  {
   "cell_type": "code",
   "execution_count": 45,
   "outputs": [
    {
     "name": "stdout",
     "output_type": "stream",
     "text": [
      "id                  int64\n",
      "target_feature    float32\n",
      "dtype: object\n"
     ]
    }
   ],
   "source": [
    "print(predictions_df.dtypes)"
   ],
   "metadata": {
    "collapsed": false,
    "ExecuteTime": {
     "end_time": "2024-12-26T18:42:44.666456900Z",
     "start_time": "2024-12-26T18:42:44.662355800Z"
    }
   },
   "id": "dde2bda3b8c7fbcb"
  },
  {
   "cell_type": "code",
   "execution_count": 12,
   "outputs": [],
   "source": [
    "sample_submission = pd.read_csv(\"sample_submission.csv\")"
   ],
   "metadata": {
    "collapsed": false,
    "ExecuteTime": {
     "end_time": "2024-12-26T18:20:22.409440Z",
     "start_time": "2024-12-26T18:20:22.391579300Z"
    }
   },
   "id": "b5905211f51fbdcb"
  },
  {
   "cell_type": "code",
   "execution_count": 13,
   "outputs": [
    {
     "data": {
      "text/plain": "           id  target_feature\n0        2016             5.0\n1        2017             5.0\n2        2018             5.0\n3        2019             5.0\n4        2020             5.0\n...       ...             ...\n64507  193531             5.0\n64508  193532             5.0\n64509  193533             5.0\n64510  193534             5.0\n64511  193535             5.0\n\n[64512 rows x 2 columns]",
      "text/html": "<div>\n<style scoped>\n    .dataframe tbody tr th:only-of-type {\n        vertical-align: middle;\n    }\n\n    .dataframe tbody tr th {\n        vertical-align: top;\n    }\n\n    .dataframe thead th {\n        text-align: right;\n    }\n</style>\n<table border=\"1\" class=\"dataframe\">\n  <thead>\n    <tr style=\"text-align: right;\">\n      <th></th>\n      <th>id</th>\n      <th>target_feature</th>\n    </tr>\n  </thead>\n  <tbody>\n    <tr>\n      <th>0</th>\n      <td>2016</td>\n      <td>5.0</td>\n    </tr>\n    <tr>\n      <th>1</th>\n      <td>2017</td>\n      <td>5.0</td>\n    </tr>\n    <tr>\n      <th>2</th>\n      <td>2018</td>\n      <td>5.0</td>\n    </tr>\n    <tr>\n      <th>3</th>\n      <td>2019</td>\n      <td>5.0</td>\n    </tr>\n    <tr>\n      <th>4</th>\n      <td>2020</td>\n      <td>5.0</td>\n    </tr>\n    <tr>\n      <th>...</th>\n      <td>...</td>\n      <td>...</td>\n    </tr>\n    <tr>\n      <th>64507</th>\n      <td>193531</td>\n      <td>5.0</td>\n    </tr>\n    <tr>\n      <th>64508</th>\n      <td>193532</td>\n      <td>5.0</td>\n    </tr>\n    <tr>\n      <th>64509</th>\n      <td>193533</td>\n      <td>5.0</td>\n    </tr>\n    <tr>\n      <th>64510</th>\n      <td>193534</td>\n      <td>5.0</td>\n    </tr>\n    <tr>\n      <th>64511</th>\n      <td>193535</td>\n      <td>5.0</td>\n    </tr>\n  </tbody>\n</table>\n<p>64512 rows × 2 columns</p>\n</div>"
     },
     "execution_count": 13,
     "metadata": {},
     "output_type": "execute_result"
    }
   ],
   "source": [
    "sample_submission"
   ],
   "metadata": {
    "collapsed": false,
    "ExecuteTime": {
     "end_time": "2024-12-26T18:20:26.557186400Z",
     "start_time": "2024-12-26T18:20:26.540769300Z"
    }
   },
   "id": "9c328edf52ee3b1a"
  },
  {
   "cell_type": "code",
   "execution_count": 46,
   "outputs": [
    {
     "name": "stdout",
     "output_type": "stream",
     "text": [
      "id                  int64\n",
      "target_feature    float64\n",
      "dtype: object\n"
     ]
    }
   ],
   "source": [
    "print(sample_submission.dtypes)"
   ],
   "metadata": {
    "collapsed": false,
    "ExecuteTime": {
     "end_time": "2024-12-26T18:43:02.194661600Z",
     "start_time": "2024-12-26T18:43:02.179579800Z"
    }
   },
   "id": "a2f883791e565ab2"
  },
  {
   "cell_type": "code",
   "execution_count": 47,
   "outputs": [],
   "source": [
    "# Save submission as CSV file\n",
    "predictions_df.to_csv('D:\\Python\\Predict the wind speed at a wind turbine\\\\oleg_bissing_submission.csv', index=False)"
   ],
   "metadata": {
    "collapsed": false,
    "ExecuteTime": {
     "end_time": "2024-12-26T18:44:20.701264200Z",
     "start_time": "2024-12-26T18:44:20.583967500Z"
    }
   },
   "id": "1377d54064648d3"
  },
  {
   "cell_type": "code",
   "execution_count": null,
   "outputs": [],
   "source": [],
   "metadata": {
    "collapsed": false
   },
   "id": "e6267fe10e63418a"
  }
 ],
 "metadata": {
  "kernelspec": {
   "display_name": "Python 3",
   "language": "python",
   "name": "python3"
  },
  "language_info": {
   "codemirror_mode": {
    "name": "ipython",
    "version": 2
   },
   "file_extension": ".py",
   "mimetype": "text/x-python",
   "name": "python",
   "nbconvert_exporter": "python",
   "pygments_lexer": "ipython2",
   "version": "2.7.6"
  }
 },
 "nbformat": 4,
 "nbformat_minor": 5
}
