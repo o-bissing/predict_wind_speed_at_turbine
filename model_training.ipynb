{
 "cells": [
  {
   "cell_type": "code",
   "execution_count": 1,
   "id": "initial_id",
   "metadata": {
    "collapsed": true,
    "ExecuteTime": {
     "end_time": "2024-12-26T18:09:42.603175600Z",
     "start_time": "2024-12-26T18:09:39.544454900Z"
    }
   },
   "outputs": [],
   "source": [
    "import numpy as np\n",
    "import pandas as pd\n",
    "from sklearn.model_selection import train_test_split\n",
    "from sklearn.preprocessing import StandardScaler\n",
    "from tensorflow.keras.models import Sequential\n",
    "from tensorflow.keras.layers import Dense, Dropout\n",
    "from sklearn.metrics import mean_squared_error, mean_absolute_error\n",
    "import matplotlib.pyplot as plt"
   ]
  },
  {
   "cell_type": "code",
   "execution_count": 16,
   "outputs": [],
   "source": [
    "df_train = pd.read_csv('train_data.csv')\n",
    "df_test = pd.read_csv('test_data.csv')"
   ],
   "metadata": {
    "collapsed": false,
    "ExecuteTime": {
     "end_time": "2024-12-26T18:24:00.174505400Z",
     "start_time": "2024-12-26T18:23:59.208167400Z"
    }
   },
   "id": "460cc4f5342e76a6"
  },
  {
   "cell_type": "code",
   "execution_count": 19,
   "outputs": [],
   "source": [
    "X_train = df_train.iloc[:, :-1].values  # All columns except the last as features\n",
    "y_train = df_train.iloc[:, -1].values   # Last column as target\n",
    "X_test = df_test.iloc[:, 1:].values   # All columns except the first as features"
   ],
   "metadata": {
    "collapsed": false,
    "ExecuteTime": {
     "end_time": "2024-12-26T18:25:25.210178500Z",
     "start_time": "2024-12-26T18:25:25.207673200Z"
    }
   },
   "id": "200f29bc64cd27dd"
  },
  {
   "cell_type": "code",
   "execution_count": 20,
   "outputs": [],
   "source": [
    "scaler = StandardScaler()\n",
    "X_train = scaler.fit_transform(X_train)\n",
    "X_test = scaler.transform(X_test)"
   ],
   "metadata": {
    "collapsed": false,
    "ExecuteTime": {
     "end_time": "2024-12-26T18:25:26.659625Z",
     "start_time": "2024-12-26T18:25:26.583157700Z"
    }
   },
   "id": "e2ecf4d8e4c5734a"
  },
  {
   "cell_type": "code",
   "execution_count": 7,
   "outputs": [
    {
     "name": "stdout",
     "output_type": "stream",
     "text": [
      "Model: \"sequential\"\n",
      "_________________________________________________________________\n",
      " Layer (type)                Output Shape              Param #   \n",
      "=================================================================\n",
      " dense (Dense)               (None, 128)               5248      \n",
      "                                                                 \n",
      " dropout (Dropout)           (None, 128)               0         \n",
      "                                                                 \n",
      " dense_1 (Dense)             (None, 64)                8256      \n",
      "                                                                 \n",
      " dropout_1 (Dropout)         (None, 64)                0         \n",
      "                                                                 \n",
      " dense_2 (Dense)             (None, 1)                 65        \n",
      "                                                                 \n",
      "=================================================================\n",
      "Total params: 13569 (53.00 KB)\n",
      "Trainable params: 13569 (53.00 KB)\n",
      "Non-trainable params: 0 (0.00 Byte)\n",
      "_________________________________________________________________\n"
     ]
    }
   ],
   "source": [
    "# Define the FCNN model\n",
    "model = Sequential([\n",
    "    Dense(128, activation='relu', input_dim=X_train.shape[1]),  # Input layer\n",
    "    Dropout(0.3),  # Regularization to avoid overfitting\n",
    "    Dense(64, activation='relu'),\n",
    "    Dropout(0.3),\n",
    "    Dense(1, activation='linear')  # Output layer for regression\n",
    "])\n",
    "\n",
    "# Compile the model\n",
    "model.compile(optimizer='adam', loss='mse', metrics=['mae'])\n",
    "\n",
    "# Model summary\n",
    "model.summary()"
   ],
   "metadata": {
    "collapsed": false,
    "ExecuteTime": {
     "end_time": "2024-12-26T18:13:45.169520100Z",
     "start_time": "2024-12-26T18:13:45.034463500Z"
    }
   },
   "id": "82b0488e16aa75ca"
  },
  {
   "cell_type": "code",
   "execution_count": 48,
   "outputs": [
    {
     "name": "stdout",
     "output_type": "stream",
     "text": [
      "Epoch 1/100\n",
      "3236/3236 [==============================] - 5s 1ms/step - loss: 0.4629 - mae: 0.5061 - val_loss: 0.4062 - val_mae: 0.4981\n",
      "Epoch 2/100\n",
      "3236/3236 [==============================] - 4s 1ms/step - loss: 0.4554 - mae: 0.5040 - val_loss: 0.5354 - val_mae: 0.5769\n",
      "Epoch 3/100\n",
      "3236/3236 [==============================] - 4s 1ms/step - loss: 0.4621 - mae: 0.5057 - val_loss: 0.4578 - val_mae: 0.5329\n",
      "Epoch 4/100\n",
      "3236/3236 [==============================] - 4s 1ms/step - loss: 0.4611 - mae: 0.5058 - val_loss: 0.4284 - val_mae: 0.5103\n",
      "Epoch 5/100\n",
      "3236/3236 [==============================] - 4s 1ms/step - loss: 0.4594 - mae: 0.5045 - val_loss: 0.4020 - val_mae: 0.4949\n",
      "Epoch 6/100\n",
      "3236/3236 [==============================] - 4s 1ms/step - loss: 0.4601 - mae: 0.5047 - val_loss: 0.4321 - val_mae: 0.5151\n",
      "Epoch 7/100\n",
      "3236/3236 [==============================] - 5s 1ms/step - loss: 0.4582 - mae: 0.5032 - val_loss: 0.4854 - val_mae: 0.5476\n",
      "Epoch 8/100\n",
      "3236/3236 [==============================] - 5s 1ms/step - loss: 0.4606 - mae: 0.5040 - val_loss: 0.4380 - val_mae: 0.5140\n",
      "Epoch 9/100\n",
      "3236/3236 [==============================] - 4s 1ms/step - loss: 0.4597 - mae: 0.5043 - val_loss: 0.4662 - val_mae: 0.5371\n",
      "Epoch 10/100\n",
      "3236/3236 [==============================] - 4s 1ms/step - loss: 0.4579 - mae: 0.5046 - val_loss: 0.4818 - val_mae: 0.5445\n",
      "Epoch 11/100\n",
      "3236/3236 [==============================] - 4s 1ms/step - loss: 0.4585 - mae: 0.5046 - val_loss: 0.4862 - val_mae: 0.5488\n",
      "Epoch 12/100\n",
      "3236/3236 [==============================] - 4s 1ms/step - loss: 0.4615 - mae: 0.5045 - val_loss: 0.4803 - val_mae: 0.5481\n",
      "Epoch 13/100\n",
      "3236/3236 [==============================] - 4s 1ms/step - loss: 0.4558 - mae: 0.5028 - val_loss: 0.4367 - val_mae: 0.5158\n",
      "Epoch 14/100\n",
      "3236/3236 [==============================] - 4s 1ms/step - loss: 0.4567 - mae: 0.5034 - val_loss: 0.4191 - val_mae: 0.5068\n",
      "Epoch 15/100\n",
      "3236/3236 [==============================] - 4s 1ms/step - loss: 0.4578 - mae: 0.5038 - val_loss: 0.4809 - val_mae: 0.5465\n",
      "Epoch 16/100\n",
      "3236/3236 [==============================] - 4s 1ms/step - loss: 0.4595 - mae: 0.5042 - val_loss: 0.3907 - val_mae: 0.4864\n",
      "Epoch 17/100\n",
      "3236/3236 [==============================] - 4s 1ms/step - loss: 0.4622 - mae: 0.5051 - val_loss: 0.6088 - val_mae: 0.6150\n",
      "Epoch 18/100\n",
      "3236/3236 [==============================] - 4s 1ms/step - loss: 0.4586 - mae: 0.5051 - val_loss: 0.4311 - val_mae: 0.5163\n",
      "Epoch 19/100\n",
      "3236/3236 [==============================] - 4s 1ms/step - loss: 0.4580 - mae: 0.5032 - val_loss: 0.4647 - val_mae: 0.5358\n",
      "Epoch 20/100\n",
      "3236/3236 [==============================] - 4s 1ms/step - loss: 0.4553 - mae: 0.5033 - val_loss: 0.5490 - val_mae: 0.5828\n",
      "Epoch 21/100\n",
      "3236/3236 [==============================] - 4s 1ms/step - loss: 0.4598 - mae: 0.5046 - val_loss: 0.4060 - val_mae: 0.4989\n",
      "Epoch 22/100\n",
      "3236/3236 [==============================] - 4s 1ms/step - loss: 0.4588 - mae: 0.5036 - val_loss: 0.5721 - val_mae: 0.5932\n",
      "Epoch 23/100\n",
      "3236/3236 [==============================] - 4s 1ms/step - loss: 0.4594 - mae: 0.5041 - val_loss: 0.4461 - val_mae: 0.5213\n",
      "Epoch 24/100\n",
      "3236/3236 [==============================] - 4s 1ms/step - loss: 0.4550 - mae: 0.5025 - val_loss: 0.4634 - val_mae: 0.5345\n",
      "Epoch 25/100\n",
      "3236/3236 [==============================] - 4s 1ms/step - loss: 0.4583 - mae: 0.5032 - val_loss: 0.5413 - val_mae: 0.5780\n",
      "Epoch 26/100\n",
      "3236/3236 [==============================] - 4s 1ms/step - loss: 0.4579 - mae: 0.5025 - val_loss: 0.4895 - val_mae: 0.5514\n",
      "Epoch 27/100\n",
      "3236/3236 [==============================] - 4s 1ms/step - loss: 0.4523 - mae: 0.5006 - val_loss: 0.4488 - val_mae: 0.5247\n",
      "Epoch 28/100\n",
      "3236/3236 [==============================] - 4s 1ms/step - loss: 0.4562 - mae: 0.5021 - val_loss: 0.4705 - val_mae: 0.5326\n",
      "Epoch 29/100\n",
      "3236/3236 [==============================] - 4s 1ms/step - loss: 0.4548 - mae: 0.5023 - val_loss: 0.4909 - val_mae: 0.5471\n",
      "Epoch 30/100\n",
      "3236/3236 [==============================] - 4s 1ms/step - loss: 0.4527 - mae: 0.5023 - val_loss: 0.5381 - val_mae: 0.5773\n",
      "Epoch 31/100\n",
      "3236/3236 [==============================] - 4s 1ms/step - loss: 0.4569 - mae: 0.5023 - val_loss: 0.4596 - val_mae: 0.5332\n",
      "Epoch 32/100\n",
      "3236/3236 [==============================] - 4s 1ms/step - loss: 0.4565 - mae: 0.5023 - val_loss: 0.4432 - val_mae: 0.5235\n",
      "Epoch 33/100\n",
      "3236/3236 [==============================] - 4s 1ms/step - loss: 0.4526 - mae: 0.5013 - val_loss: 0.6230 - val_mae: 0.6177\n",
      "Epoch 34/100\n",
      "3236/3236 [==============================] - 4s 1ms/step - loss: 0.4503 - mae: 0.4994 - val_loss: 0.4077 - val_mae: 0.5013\n",
      "Epoch 35/100\n",
      "3236/3236 [==============================] - 5s 1ms/step - loss: 0.4527 - mae: 0.5009 - val_loss: 0.4848 - val_mae: 0.5447\n",
      "Epoch 36/100\n",
      "3236/3236 [==============================] - 4s 1ms/step - loss: 0.4537 - mae: 0.5013 - val_loss: 0.4411 - val_mae: 0.5227\n",
      "Epoch 37/100\n",
      "3236/3236 [==============================] - 4s 1ms/step - loss: 0.4514 - mae: 0.5003 - val_loss: 0.4425 - val_mae: 0.5246\n",
      "Epoch 38/100\n",
      "3236/3236 [==============================] - 4s 1ms/step - loss: 0.4519 - mae: 0.5010 - val_loss: 0.4546 - val_mae: 0.5317\n",
      "Epoch 39/100\n",
      "3236/3236 [==============================] - 4s 1ms/step - loss: 0.4521 - mae: 0.5012 - val_loss: 0.4356 - val_mae: 0.5150\n",
      "Epoch 40/100\n",
      "3236/3236 [==============================] - 4s 1ms/step - loss: 0.4499 - mae: 0.4996 - val_loss: 0.4628 - val_mae: 0.5331\n",
      "Epoch 41/100\n",
      "3236/3236 [==============================] - 4s 1ms/step - loss: 0.4557 - mae: 0.5013 - val_loss: 0.4172 - val_mae: 0.5074\n",
      "Epoch 42/100\n",
      "3236/3236 [==============================] - 4s 1ms/step - loss: 0.4525 - mae: 0.5009 - val_loss: 0.4603 - val_mae: 0.5341\n",
      "Epoch 43/100\n",
      "3236/3236 [==============================] - 4s 1ms/step - loss: 0.4492 - mae: 0.4998 - val_loss: 0.5399 - val_mae: 0.5758\n",
      "Epoch 44/100\n",
      "3236/3236 [==============================] - 4s 1ms/step - loss: 0.4542 - mae: 0.5015 - val_loss: 0.5789 - val_mae: 0.6014\n",
      "Epoch 45/100\n",
      "3236/3236 [==============================] - 4s 1ms/step - loss: 0.4553 - mae: 0.5019 - val_loss: 0.5087 - val_mae: 0.5583\n",
      "Epoch 46/100\n",
      "3236/3236 [==============================] - 4s 1ms/step - loss: 0.4522 - mae: 0.5001 - val_loss: 0.4895 - val_mae: 0.5513\n",
      "Epoch 47/100\n",
      "3236/3236 [==============================] - 4s 1ms/step - loss: 0.4508 - mae: 0.5006 - val_loss: 0.4710 - val_mae: 0.5356\n",
      "Epoch 48/100\n",
      "3236/3236 [==============================] - 4s 1ms/step - loss: 0.4502 - mae: 0.4994 - val_loss: 0.4251 - val_mae: 0.5116\n",
      "Epoch 49/100\n",
      "3236/3236 [==============================] - 4s 1ms/step - loss: 0.4476 - mae: 0.4976 - val_loss: 0.4067 - val_mae: 0.4988\n",
      "Epoch 50/100\n",
      "3236/3236 [==============================] - 4s 1ms/step - loss: 0.4460 - mae: 0.4980 - val_loss: 0.4223 - val_mae: 0.5075\n",
      "Epoch 51/100\n",
      "3236/3236 [==============================] - 4s 1ms/step - loss: 0.4506 - mae: 0.4994 - val_loss: 0.4819 - val_mae: 0.5447\n",
      "Epoch 52/100\n",
      "3236/3236 [==============================] - 4s 1ms/step - loss: 0.4500 - mae: 0.4995 - val_loss: 0.4415 - val_mae: 0.5200\n",
      "Epoch 53/100\n",
      "3236/3236 [==============================] - 4s 1ms/step - loss: 0.4495 - mae: 0.4990 - val_loss: 0.4735 - val_mae: 0.5408\n",
      "Epoch 54/100\n",
      "3236/3236 [==============================] - 4s 1ms/step - loss: 0.4521 - mae: 0.5001 - val_loss: 0.5115 - val_mae: 0.5619\n",
      "Epoch 55/100\n",
      "3236/3236 [==============================] - 4s 1ms/step - loss: 0.4483 - mae: 0.4991 - val_loss: 0.4791 - val_mae: 0.5447\n",
      "Epoch 56/100\n",
      "3236/3236 [==============================] - 4s 1ms/step - loss: 0.4492 - mae: 0.4984 - val_loss: 0.5614 - val_mae: 0.5931\n",
      "Epoch 57/100\n",
      "3236/3236 [==============================] - 4s 1ms/step - loss: 0.4528 - mae: 0.4992 - val_loss: 0.4659 - val_mae: 0.5329\n",
      "Epoch 58/100\n",
      "3236/3236 [==============================] - 4s 1ms/step - loss: 0.4487 - mae: 0.4982 - val_loss: 0.4330 - val_mae: 0.5138\n",
      "Epoch 59/100\n",
      "3236/3236 [==============================] - 4s 1ms/step - loss: 0.4490 - mae: 0.4983 - val_loss: 0.4124 - val_mae: 0.4993\n",
      "Epoch 60/100\n",
      "3236/3236 [==============================] - 4s 1ms/step - loss: 0.4483 - mae: 0.4981 - val_loss: 0.4361 - val_mae: 0.5134\n",
      "Epoch 61/100\n",
      "3236/3236 [==============================] - 4s 1ms/step - loss: 0.4480 - mae: 0.4984 - val_loss: 0.4733 - val_mae: 0.5426\n",
      "Epoch 62/100\n",
      "3236/3236 [==============================] - 4s 1ms/step - loss: 0.4464 - mae: 0.4979 - val_loss: 0.5221 - val_mae: 0.5657\n",
      "Epoch 63/100\n",
      "3236/3236 [==============================] - 4s 1ms/step - loss: 0.4495 - mae: 0.5005 - val_loss: 0.4775 - val_mae: 0.5436\n",
      "Epoch 64/100\n",
      "3236/3236 [==============================] - 4s 1ms/step - loss: 0.4516 - mae: 0.5001 - val_loss: 0.6074 - val_mae: 0.6178\n",
      "Epoch 65/100\n",
      "3236/3236 [==============================] - 4s 1ms/step - loss: 0.4515 - mae: 0.5001 - val_loss: 0.5470 - val_mae: 0.5796\n",
      "Epoch 66/100\n",
      "3236/3236 [==============================] - 4s 1ms/step - loss: 0.4480 - mae: 0.4978 - val_loss: 0.4730 - val_mae: 0.5373\n",
      "Epoch 67/100\n",
      "3236/3236 [==============================] - 4s 1ms/step - loss: 0.4458 - mae: 0.4979 - val_loss: 0.4169 - val_mae: 0.5024\n",
      "Epoch 68/100\n",
      "3236/3236 [==============================] - 4s 1ms/step - loss: 0.4472 - mae: 0.4982 - val_loss: 0.5135 - val_mae: 0.5645\n",
      "Epoch 69/100\n",
      "3236/3236 [==============================] - 4s 1ms/step - loss: 0.4521 - mae: 0.4997 - val_loss: 0.5208 - val_mae: 0.5637\n",
      "Epoch 70/100\n",
      "3236/3236 [==============================] - 4s 1ms/step - loss: 0.4540 - mae: 0.5000 - val_loss: 0.5034 - val_mae: 0.5531\n",
      "Epoch 71/100\n",
      "3236/3236 [==============================] - 4s 1ms/step - loss: 0.4547 - mae: 0.5014 - val_loss: 0.6284 - val_mae: 0.6275\n",
      "Epoch 72/100\n",
      "3236/3236 [==============================] - 4s 1ms/step - loss: 0.4459 - mae: 0.4978 - val_loss: 0.4451 - val_mae: 0.5209\n",
      "Epoch 73/100\n",
      "3236/3236 [==============================] - 4s 1ms/step - loss: 0.4505 - mae: 0.4990 - val_loss: 0.4489 - val_mae: 0.5255\n",
      "Epoch 74/100\n",
      "3236/3236 [==============================] - 4s 1ms/step - loss: 0.4505 - mae: 0.4994 - val_loss: 0.4430 - val_mae: 0.5205\n",
      "Epoch 75/100\n",
      "3236/3236 [==============================] - 4s 1ms/step - loss: 0.4476 - mae: 0.4982 - val_loss: 0.4970 - val_mae: 0.5504\n",
      "Epoch 76/100\n",
      "3236/3236 [==============================] - 4s 1ms/step - loss: 0.4477 - mae: 0.4974 - val_loss: 0.5269 - val_mae: 0.5728\n",
      "Epoch 77/100\n",
      "3236/3236 [==============================] - 4s 1ms/step - loss: 0.4508 - mae: 0.4999 - val_loss: 0.5351 - val_mae: 0.5705\n",
      "Epoch 78/100\n",
      "3236/3236 [==============================] - 4s 1ms/step - loss: 0.4481 - mae: 0.4984 - val_loss: 0.5127 - val_mae: 0.5592\n",
      "Epoch 79/100\n",
      "3236/3236 [==============================] - 4s 1ms/step - loss: 0.4463 - mae: 0.4979 - val_loss: 0.4673 - val_mae: 0.5350\n",
      "Epoch 80/100\n",
      "3236/3236 [==============================] - 4s 1ms/step - loss: 0.4418 - mae: 0.4953 - val_loss: 0.4536 - val_mae: 0.5267\n",
      "Epoch 81/100\n",
      "3236/3236 [==============================] - 4s 1ms/step - loss: 0.4460 - mae: 0.4978 - val_loss: 0.5553 - val_mae: 0.5862\n",
      "Epoch 82/100\n",
      "3236/3236 [==============================] - 4s 1ms/step - loss: 0.4446 - mae: 0.4969 - val_loss: 0.4614 - val_mae: 0.5289\n",
      "Epoch 83/100\n",
      "3236/3236 [==============================] - 4s 1ms/step - loss: 0.4475 - mae: 0.4981 - val_loss: 0.6100 - val_mae: 0.6150\n",
      "Epoch 84/100\n",
      "3236/3236 [==============================] - 4s 1ms/step - loss: 0.4444 - mae: 0.4982 - val_loss: 0.5889 - val_mae: 0.6014\n",
      "Epoch 85/100\n",
      "3236/3236 [==============================] - 4s 1ms/step - loss: 0.4450 - mae: 0.4974 - val_loss: 0.5697 - val_mae: 0.5926\n",
      "Epoch 86/100\n",
      "3236/3236 [==============================] - 4s 1ms/step - loss: 0.4449 - mae: 0.4970 - val_loss: 0.4121 - val_mae: 0.4983\n",
      "Epoch 87/100\n",
      "3236/3236 [==============================] - 4s 1ms/step - loss: 0.4468 - mae: 0.4980 - val_loss: 0.5075 - val_mae: 0.5604\n",
      "Epoch 88/100\n",
      "3236/3236 [==============================] - 4s 1ms/step - loss: 0.4442 - mae: 0.4970 - val_loss: 0.5203 - val_mae: 0.5657\n",
      "Epoch 89/100\n",
      "3236/3236 [==============================] - 4s 1ms/step - loss: 0.4470 - mae: 0.4985 - val_loss: 0.4676 - val_mae: 0.5316\n",
      "Epoch 90/100\n",
      "3236/3236 [==============================] - 4s 1ms/step - loss: 0.4419 - mae: 0.4952 - val_loss: 0.4872 - val_mae: 0.5496\n",
      "Epoch 91/100\n",
      "3236/3236 [==============================] - 4s 1ms/step - loss: 0.4471 - mae: 0.4975 - val_loss: 0.5069 - val_mae: 0.5613\n",
      "Epoch 92/100\n",
      "3236/3236 [==============================] - 4s 1ms/step - loss: 0.4443 - mae: 0.4961 - val_loss: 0.5489 - val_mae: 0.5829\n",
      "Epoch 93/100\n",
      "3236/3236 [==============================] - 4s 1ms/step - loss: 0.4419 - mae: 0.4965 - val_loss: 0.5237 - val_mae: 0.5664\n",
      "Epoch 94/100\n",
      "3236/3236 [==============================] - 4s 1ms/step - loss: 0.4465 - mae: 0.4972 - val_loss: 0.5525 - val_mae: 0.5801\n",
      "Epoch 95/100\n",
      "3236/3236 [==============================] - 4s 1ms/step - loss: 0.4467 - mae: 0.4962 - val_loss: 0.4240 - val_mae: 0.5130\n",
      "Epoch 96/100\n",
      "3236/3236 [==============================] - 4s 1ms/step - loss: 0.4430 - mae: 0.4965 - val_loss: 0.3651 - val_mae: 0.4709\n",
      "Epoch 97/100\n",
      "3236/3236 [==============================] - 4s 1ms/step - loss: 0.4451 - mae: 0.4968 - val_loss: 0.5863 - val_mae: 0.6050\n",
      "Epoch 98/100\n",
      "3236/3236 [==============================] - 4s 1ms/step - loss: 0.4410 - mae: 0.4949 - val_loss: 0.4141 - val_mae: 0.4996\n",
      "Epoch 99/100\n",
      "3236/3236 [==============================] - 4s 1ms/step - loss: 0.4485 - mae: 0.4979 - val_loss: 0.3890 - val_mae: 0.4863\n",
      "Epoch 100/100\n",
      "3236/3236 [==============================] - 4s 1ms/step - loss: 0.4490 - mae: 0.4974 - val_loss: 0.4918 - val_mae: 0.5514\n"
     ]
    }
   ],
   "source": [
    "history = model.fit(\n",
    "    X_train, y_train,\n",
    "    validation_split=0.2,  # Use 20% of training data for validation\n",
    "    epochs=100,  # Number of epochs (adjust as needed)\n",
    "    batch_size=32,  # Batch size\n",
    "    verbose=1  # Display training progress\n",
    ")"
   ],
   "metadata": {
    "collapsed": false,
    "ExecuteTime": {
     "end_time": "2024-12-26T20:42:25.043735900Z",
     "start_time": "2024-12-26T20:35:01.514150100Z"
    }
   },
   "id": "a67c14d44de616c5"
  },
  {
   "cell_type": "code",
   "execution_count": 49,
   "outputs": [
    {
     "name": "stdout",
     "output_type": "stream",
     "text": [
      "2016/2016 [==============================] - 2s 747us/step\n"
     ]
    }
   ],
   "source": [
    "y_pred = model.predict(X_test)"
   ],
   "metadata": {
    "collapsed": false,
    "ExecuteTime": {
     "end_time": "2024-12-26T20:49:06.425908500Z",
     "start_time": "2024-12-26T20:49:04.178332Z"
    }
   },
   "id": "fa1b101be39f5daa"
  },
  {
   "cell_type": "code",
   "execution_count": 50,
   "outputs": [],
   "source": [
    "predictions_df = pd.DataFrame(y_pred)"
   ],
   "metadata": {
    "collapsed": false,
    "ExecuteTime": {
     "end_time": "2024-12-26T20:49:08.725723500Z",
     "start_time": "2024-12-26T20:49:08.722413600Z"
    }
   },
   "id": "1c4c574add488773"
  },
  {
   "cell_type": "code",
   "execution_count": 51,
   "outputs": [],
   "source": [
    "column_from_df1 = df_test[\"Unnamed: 0\"]\n",
    "column_from_df2 = predictions_df.iloc[:, -1]"
   ],
   "metadata": {
    "collapsed": false,
    "ExecuteTime": {
     "end_time": "2024-12-26T20:49:10.419610700Z",
     "start_time": "2024-12-26T20:49:10.410196900Z"
    }
   },
   "id": "71b333248aa7be59"
  },
  {
   "cell_type": "code",
   "execution_count": 52,
   "outputs": [],
   "source": [
    "predictions_df = pd.concat([column_from_df1, column_from_df2], axis=1)"
   ],
   "metadata": {
    "collapsed": false,
    "ExecuteTime": {
     "end_time": "2024-12-26T20:49:11.324701400Z",
     "start_time": "2024-12-26T20:49:11.315733500Z"
    }
   },
   "id": "207d7ab39242cd84"
  },
  {
   "cell_type": "code",
   "execution_count": 53,
   "outputs": [],
   "source": [
    "predictions_df.columns = ['id', 'target_feature']"
   ],
   "metadata": {
    "collapsed": false,
    "ExecuteTime": {
     "end_time": "2024-12-26T20:49:12.037924900Z",
     "start_time": "2024-12-26T20:49:12.014428900Z"
    }
   },
   "id": "3363d337b3d8fec3"
  },
  {
   "cell_type": "code",
   "execution_count": 54,
   "outputs": [
    {
     "data": {
      "text/plain": "           id  target_feature\n0        2016        8.252352\n1        2017        8.520462\n2        2018        8.795734\n3        2019        8.135920\n4        2020        7.254939\n...       ...             ...\n64507  193531        5.753579\n64508  193532        5.429995\n64509  193533        5.458993\n64510  193534        5.676717\n64511  193535        5.706114\n\n[64512 rows x 2 columns]",
      "text/html": "<div>\n<style scoped>\n    .dataframe tbody tr th:only-of-type {\n        vertical-align: middle;\n    }\n\n    .dataframe tbody tr th {\n        vertical-align: top;\n    }\n\n    .dataframe thead th {\n        text-align: right;\n    }\n</style>\n<table border=\"1\" class=\"dataframe\">\n  <thead>\n    <tr style=\"text-align: right;\">\n      <th></th>\n      <th>id</th>\n      <th>target_feature</th>\n    </tr>\n  </thead>\n  <tbody>\n    <tr>\n      <th>0</th>\n      <td>2016</td>\n      <td>8.252352</td>\n    </tr>\n    <tr>\n      <th>1</th>\n      <td>2017</td>\n      <td>8.520462</td>\n    </tr>\n    <tr>\n      <th>2</th>\n      <td>2018</td>\n      <td>8.795734</td>\n    </tr>\n    <tr>\n      <th>3</th>\n      <td>2019</td>\n      <td>8.135920</td>\n    </tr>\n    <tr>\n      <th>4</th>\n      <td>2020</td>\n      <td>7.254939</td>\n    </tr>\n    <tr>\n      <th>...</th>\n      <td>...</td>\n      <td>...</td>\n    </tr>\n    <tr>\n      <th>64507</th>\n      <td>193531</td>\n      <td>5.753579</td>\n    </tr>\n    <tr>\n      <th>64508</th>\n      <td>193532</td>\n      <td>5.429995</td>\n    </tr>\n    <tr>\n      <th>64509</th>\n      <td>193533</td>\n      <td>5.458993</td>\n    </tr>\n    <tr>\n      <th>64510</th>\n      <td>193534</td>\n      <td>5.676717</td>\n    </tr>\n    <tr>\n      <th>64511</th>\n      <td>193535</td>\n      <td>5.706114</td>\n    </tr>\n  </tbody>\n</table>\n<p>64512 rows × 2 columns</p>\n</div>"
     },
     "execution_count": 54,
     "metadata": {},
     "output_type": "execute_result"
    }
   ],
   "source": [
    "predictions_df"
   ],
   "metadata": {
    "collapsed": false,
    "ExecuteTime": {
     "end_time": "2024-12-26T20:49:13.574466100Z",
     "start_time": "2024-12-26T20:49:13.562246500Z"
    }
   },
   "id": "2cf96c0a943975ab"
  },
  {
   "cell_type": "code",
   "execution_count": 55,
   "outputs": [
    {
     "name": "stdout",
     "output_type": "stream",
     "text": [
      "id                  int64\n",
      "target_feature    float32\n",
      "dtype: object\n"
     ]
    }
   ],
   "source": [
    "print(predictions_df.dtypes)"
   ],
   "metadata": {
    "collapsed": false,
    "ExecuteTime": {
     "end_time": "2024-12-26T20:49:14.518681700Z",
     "start_time": "2024-12-26T20:49:14.515898800Z"
    }
   },
   "id": "dde2bda3b8c7fbcb"
  },
  {
   "cell_type": "code",
   "execution_count": 56,
   "outputs": [],
   "source": [
    "sample_submission = pd.read_csv(\"sample_submission.csv\")"
   ],
   "metadata": {
    "collapsed": false,
    "ExecuteTime": {
     "end_time": "2024-12-26T20:49:15.474591100Z",
     "start_time": "2024-12-26T20:49:15.446465100Z"
    }
   },
   "id": "b5905211f51fbdcb"
  },
  {
   "cell_type": "code",
   "execution_count": 57,
   "outputs": [
    {
     "data": {
      "text/plain": "           id  target_feature\n0        2016             5.0\n1        2017             5.0\n2        2018             5.0\n3        2019             5.0\n4        2020             5.0\n...       ...             ...\n64507  193531             5.0\n64508  193532             5.0\n64509  193533             5.0\n64510  193534             5.0\n64511  193535             5.0\n\n[64512 rows x 2 columns]",
      "text/html": "<div>\n<style scoped>\n    .dataframe tbody tr th:only-of-type {\n        vertical-align: middle;\n    }\n\n    .dataframe tbody tr th {\n        vertical-align: top;\n    }\n\n    .dataframe thead th {\n        text-align: right;\n    }\n</style>\n<table border=\"1\" class=\"dataframe\">\n  <thead>\n    <tr style=\"text-align: right;\">\n      <th></th>\n      <th>id</th>\n      <th>target_feature</th>\n    </tr>\n  </thead>\n  <tbody>\n    <tr>\n      <th>0</th>\n      <td>2016</td>\n      <td>5.0</td>\n    </tr>\n    <tr>\n      <th>1</th>\n      <td>2017</td>\n      <td>5.0</td>\n    </tr>\n    <tr>\n      <th>2</th>\n      <td>2018</td>\n      <td>5.0</td>\n    </tr>\n    <tr>\n      <th>3</th>\n      <td>2019</td>\n      <td>5.0</td>\n    </tr>\n    <tr>\n      <th>4</th>\n      <td>2020</td>\n      <td>5.0</td>\n    </tr>\n    <tr>\n      <th>...</th>\n      <td>...</td>\n      <td>...</td>\n    </tr>\n    <tr>\n      <th>64507</th>\n      <td>193531</td>\n      <td>5.0</td>\n    </tr>\n    <tr>\n      <th>64508</th>\n      <td>193532</td>\n      <td>5.0</td>\n    </tr>\n    <tr>\n      <th>64509</th>\n      <td>193533</td>\n      <td>5.0</td>\n    </tr>\n    <tr>\n      <th>64510</th>\n      <td>193534</td>\n      <td>5.0</td>\n    </tr>\n    <tr>\n      <th>64511</th>\n      <td>193535</td>\n      <td>5.0</td>\n    </tr>\n  </tbody>\n</table>\n<p>64512 rows × 2 columns</p>\n</div>"
     },
     "execution_count": 57,
     "metadata": {},
     "output_type": "execute_result"
    }
   ],
   "source": [
    "sample_submission"
   ],
   "metadata": {
    "collapsed": false,
    "ExecuteTime": {
     "end_time": "2024-12-26T20:49:16.052757800Z",
     "start_time": "2024-12-26T20:49:16.041912300Z"
    }
   },
   "id": "9c328edf52ee3b1a"
  },
  {
   "cell_type": "code",
   "execution_count": 58,
   "outputs": [
    {
     "name": "stdout",
     "output_type": "stream",
     "text": [
      "id                  int64\n",
      "target_feature    float64\n",
      "dtype: object\n"
     ]
    }
   ],
   "source": [
    "print(sample_submission.dtypes)"
   ],
   "metadata": {
    "collapsed": false,
    "ExecuteTime": {
     "end_time": "2024-12-26T20:49:17.438766300Z",
     "start_time": "2024-12-26T20:49:17.435834200Z"
    }
   },
   "id": "a2f883791e565ab2"
  },
  {
   "cell_type": "code",
   "execution_count": 59,
   "outputs": [],
   "source": [
    "# Save submission as CSV file\n",
    "predictions_df.to_csv('D:\\Python\\Predict the wind speed at a wind turbine\\submissions\\\\oleg_bissing_submission_2.csv', index=False)"
   ],
   "metadata": {
    "collapsed": false,
    "ExecuteTime": {
     "end_time": "2024-12-26T20:49:28.165893Z",
     "start_time": "2024-12-26T20:49:28.055070700Z"
    }
   },
   "id": "1377d54064648d3"
  },
  {
   "cell_type": "code",
   "execution_count": null,
   "outputs": [],
   "source": [],
   "metadata": {
    "collapsed": false
   },
   "id": "e6267fe10e63418a"
  }
 ],
 "metadata": {
  "kernelspec": {
   "display_name": "Python 3",
   "language": "python",
   "name": "python3"
  },
  "language_info": {
   "codemirror_mode": {
    "name": "ipython",
    "version": 2
   },
   "file_extension": ".py",
   "mimetype": "text/x-python",
   "name": "python",
   "nbconvert_exporter": "python",
   "pygments_lexer": "ipython2",
   "version": "2.7.6"
  }
 },
 "nbformat": 4,
 "nbformat_minor": 5
}
