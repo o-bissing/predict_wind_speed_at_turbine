{
 "cells": [
  {
   "cell_type": "code",
   "execution_count": 1,
   "metadata": {},
   "outputs": [],
   "source": [
    "import pandas as pd\n",
    "import matplotlib.pyplot as plt\n",
    "import matplotlib.colors as mcolors\n",
    "import seaborn as sns\n",
    "import xgboost as xgb\n",
    "from sklearn.metrics import mean_squared_error\n",
    "from sklearn.model_selection import train_test_split"
   ]
  },
  {
   "cell_type": "code",
   "execution_count": 3,
   "metadata": {},
   "outputs": [],
   "source": [
    "df_train = pd.read_csv('datasets/train_data.csv')\n",
    "df_test = pd.read_csv('datasets/test_data.csv')"
   ]
  },
  {
   "cell_type": "code",
   "execution_count": 4,
   "metadata": {},
   "outputs": [],
   "source": [
    "X_train = df_train.iloc[:, :-1].values  # All columns except the last as features\n",
    "y_train = df_train.iloc[:, -1].values   # Last column as target\n",
    "X_test = df_test.iloc[:, 1:].values   # All columns except the first as features"
   ]
  },
  {
   "cell_type": "code",
   "execution_count": 12,
   "metadata": {},
   "outputs": [],
   "source": [
    "# Initialize the XGBoost model\n",
    "#model = xgb.XGBRegressor(objective='reg:squarederror', max_depth=6, learning_rate=0.05, n_estimators=1000)\n",
    "model = xgb.XGBRegressor(objective='reg:squarederror', max_depth=10, learning_rate=0.01, n_estimators=2000)\n",
    "\n",
    "# Train the model\n",
    "model.fit(X_train, y_train)\n",
    "\n",
    "# Make predictions on the test set\n",
    "y_pred = model.predict(X_test)"
   ]
  },
  {
   "cell_type": "code",
   "execution_count": 13,
   "metadata": {},
   "outputs": [],
   "source": [
    "predictions_df = pd.DataFrame(y_pred)"
   ]
  },
  {
   "cell_type": "code",
   "execution_count": 14,
   "metadata": {},
   "outputs": [],
   "source": [
    "column_from_df1 = df_test[\"Unnamed: 0\"]\n",
    "column_from_df2 = predictions_df.iloc[:, -1]"
   ]
  },
  {
   "cell_type": "code",
   "execution_count": 15,
   "metadata": {},
   "outputs": [],
   "source": [
    "predictions_df = pd.concat([column_from_df1, column_from_df2], axis=1)"
   ]
  },
  {
   "cell_type": "code",
   "execution_count": 16,
   "metadata": {},
   "outputs": [],
   "source": [
    "predictions_df.columns = ['id', 'target_feature']"
   ]
  },
  {
   "cell_type": "code",
   "execution_count": 17,
   "metadata": {},
   "outputs": [
    {
     "data": {
      "text/html": [
       "<div>\n",
       "<style scoped>\n",
       "    .dataframe tbody tr th:only-of-type {\n",
       "        vertical-align: middle;\n",
       "    }\n",
       "\n",
       "    .dataframe tbody tr th {\n",
       "        vertical-align: top;\n",
       "    }\n",
       "\n",
       "    .dataframe thead th {\n",
       "        text-align: right;\n",
       "    }\n",
       "</style>\n",
       "<table border=\"1\" class=\"dataframe\">\n",
       "  <thead>\n",
       "    <tr style=\"text-align: right;\">\n",
       "      <th></th>\n",
       "      <th>id</th>\n",
       "      <th>target_feature</th>\n",
       "    </tr>\n",
       "  </thead>\n",
       "  <tbody>\n",
       "    <tr>\n",
       "      <th>0</th>\n",
       "      <td>2016</td>\n",
       "      <td>8.555980</td>\n",
       "    </tr>\n",
       "    <tr>\n",
       "      <th>1</th>\n",
       "      <td>2017</td>\n",
       "      <td>8.717667</td>\n",
       "    </tr>\n",
       "    <tr>\n",
       "      <th>2</th>\n",
       "      <td>2018</td>\n",
       "      <td>8.735512</td>\n",
       "    </tr>\n",
       "    <tr>\n",
       "      <th>3</th>\n",
       "      <td>2019</td>\n",
       "      <td>7.997875</td>\n",
       "    </tr>\n",
       "    <tr>\n",
       "      <th>4</th>\n",
       "      <td>2020</td>\n",
       "      <td>7.399666</td>\n",
       "    </tr>\n",
       "    <tr>\n",
       "      <th>...</th>\n",
       "      <td>...</td>\n",
       "      <td>...</td>\n",
       "    </tr>\n",
       "    <tr>\n",
       "      <th>64507</th>\n",
       "      <td>193531</td>\n",
       "      <td>5.596874</td>\n",
       "    </tr>\n",
       "    <tr>\n",
       "      <th>64508</th>\n",
       "      <td>193532</td>\n",
       "      <td>5.199877</td>\n",
       "    </tr>\n",
       "    <tr>\n",
       "      <th>64509</th>\n",
       "      <td>193533</td>\n",
       "      <td>5.190171</td>\n",
       "    </tr>\n",
       "    <tr>\n",
       "      <th>64510</th>\n",
       "      <td>193534</td>\n",
       "      <td>5.416073</td>\n",
       "    </tr>\n",
       "    <tr>\n",
       "      <th>64511</th>\n",
       "      <td>193535</td>\n",
       "      <td>5.401687</td>\n",
       "    </tr>\n",
       "  </tbody>\n",
       "</table>\n",
       "<p>64512 rows × 2 columns</p>\n",
       "</div>"
      ],
      "text/plain": [
       "           id  target_feature\n",
       "0        2016        8.555980\n",
       "1        2017        8.717667\n",
       "2        2018        8.735512\n",
       "3        2019        7.997875\n",
       "4        2020        7.399666\n",
       "...       ...             ...\n",
       "64507  193531        5.596874\n",
       "64508  193532        5.199877\n",
       "64509  193533        5.190171\n",
       "64510  193534        5.416073\n",
       "64511  193535        5.401687\n",
       "\n",
       "[64512 rows x 2 columns]"
      ]
     },
     "execution_count": 17,
     "metadata": {},
     "output_type": "execute_result"
    }
   ],
   "source": [
    "predictions_df"
   ]
  },
  {
   "cell_type": "code",
   "execution_count": 18,
   "metadata": {},
   "outputs": [],
   "source": [
    "# Save submission as CSV file\n",
    "predictions_df.to_csv('D:\\\\Python\\\\Predict the wind speed at a wind turbine\\\\submissions\\\\oleg_bissing_submission_7.csv', index=False)"
   ]
  }
 ],
 "metadata": {
  "kernelspec": {
   "display_name": "Python 3",
   "language": "python",
   "name": "python3"
  },
  "language_info": {
   "codemirror_mode": {
    "name": "ipython",
    "version": 3
   },
   "file_extension": ".py",
   "mimetype": "text/x-python",
   "name": "python",
   "nbconvert_exporter": "python",
   "pygments_lexer": "ipython3",
   "version": "3.12.6"
  }
 },
 "nbformat": 4,
 "nbformat_minor": 2
}
